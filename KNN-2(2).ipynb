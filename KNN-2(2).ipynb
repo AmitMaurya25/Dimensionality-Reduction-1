{
 "cells": [
  {
   "cell_type": "markdown",
   "id": "178a5f14-fcaa-47ab-a800-0f820c126af1",
   "metadata": {},
   "source": [
    "# ## Question 1------------------------------------------------------------------------------------------------------------------\n"
   ]
  },
  {
   "cell_type": "code",
   "execution_count": null,
   "id": "c4d7701e-cf98-4cae-8f0b-9950c745d2a4",
   "metadata": {
    "tags": []
   },
   "outputs": [],
   "source": [
    "Certainly! Here's an example Python code to implement the K-Nearest Neighbors (KNN) classifier algorithm on the load_iris dataset from sklearn.datasets:"
   ]
  },
  {
   "cell_type": "code",
   "execution_count": 7,
   "id": "031e3bf2-ad71-4b45-9879-057bedaff81d",
   "metadata": {},
   "outputs": [
    {
     "name": "stdout",
     "output_type": "stream",
     "text": [
      "Accuracy: 1.0\n",
      "\n",
      "Classification Report:\n",
      "              precision    recall  f1-score   support\n",
      "\n",
      "           0       1.00      1.00      1.00        10\n",
      "           1       1.00      1.00      1.00         9\n",
      "           2       1.00      1.00      1.00        11\n",
      "\n",
      "    accuracy                           1.00        30\n",
      "   macro avg       1.00      1.00      1.00        30\n",
      "weighted avg       1.00      1.00      1.00        30\n",
      "\n"
     ]
    }
   ],
   "source": [
    "from sklearn.datasets import load_iris\n",
    "from sklearn.model_selection import train_test_split\n",
    "from sklearn.neighbors import KNeighborsClassifier\n",
    "from sklearn.metrics import accuracy_score, classification_report\n",
    "\n",
    "# Load the Iris dataset\n",
    "iris = load_iris()\n",
    "X = iris.data\n",
    "y = iris.target\n",
    "\n",
    "# Split the dataset into training and testing sets\n",
    "X_train, X_test, y_train, y_test = train_test_split(X, y, test_size=0.2, random_state=42)\n",
    "\n",
    "# Create a KNN classifier with K=3\n",
    "knn_classifier = KNeighborsClassifier(n_neighbors=3)\n",
    "\n",
    "# Train the classifier on the training data\n",
    "knn_classifier.fit(X_train, y_train)\n",
    "\n",
    "# Make predictions on the test data\n",
    "y_pred = knn_classifier.predict(X_test)\n",
    "\n",
    "# Evaluate the performance\n",
    "accuracy = accuracy_score(y_test, y_pred)\n",
    "classification_rep = classification_report(y_test, y_pred)\n",
    "\n",
    "# Display the results\n",
    "print(f\"Accuracy: {accuracy}\")\n",
    "print(\"\\nClassification Report:\")\n",
    "print(classification_rep)\n"
   ]
  },
  {
   "cell_type": "code",
   "execution_count": 8,
   "id": "a88524de-23ac-4caa-8475-23a389730d5f",
   "metadata": {},
   "outputs": [
    {
     "ename": "SyntaxError",
     "evalue": "invalid syntax (2727774474.py, line 1)",
     "output_type": "error",
     "traceback": [
      "\u001b[0;36m  Cell \u001b[0;32mIn[8], line 1\u001b[0;36m\u001b[0m\n\u001b[0;31m    This code performs the following steps:\u001b[0m\n\u001b[0m         ^\u001b[0m\n\u001b[0;31mSyntaxError\u001b[0m\u001b[0;31m:\u001b[0m invalid syntax\n"
     ]
    }
   ],
   "source": [
    "This code performs the following steps:\n",
    "\n",
    "Loads the Iris dataset using load_iris() from sklearn.datasets.\n",
    "Splits the dataset into training and testing sets using train_test_split.\n",
    "Creates a KNN classifier with KNeighborsClassifier from sklearn.neighbors with K=3.\n",
    "Trains the classifier on the training data using fit.\n",
    "Makes predictions on the test data using predict.\n",
    "Evaluates the performance using accuracy and classification report.\n",
    "Make sure you have scikit-learn installed (pip install scikit-learn) before running this code."
   ]
  },
  {
   "cell_type": "markdown",
   "id": "f16f4011-2dd6-42a4-a05e-4a1bac19425e",
   "metadata": {},
   "source": [
    "## Qestion 2 --------------------------------------------------------------------------------------------------------------"
   ]
  },
  {
   "cell_type": "code",
   "execution_count": null,
   "id": "0db6999d-bea5-49fb-bd82-931a82c42292",
   "metadata": {},
   "outputs": [],
   "source": [
    "Certainly! Here's an example Python code to implement the K-Nearest Neighbors (KNN) regressor algorithm on the load_boston dataset from sklearn.datasets:"
   ]
  },
  {
   "cell_type": "code",
   "execution_count": null,
   "id": "ebaea2ec-c79c-4fcb-9697-fd53254f4068",
   "metadata": {},
   "outputs": [],
   "source": [
    "from sklearn.datasets import load_boston\n",
    "from sklearn.model_selection import train_test_split\n",
    "from sklearn.neighbors import KNeighborsRegressor\n",
    "from sklearn.metrics import mean_squared_error, r2_score\n",
    "import numpy as np\n",
    "\n",
    "# Load the Boston Housing dataset\n",
    "boston = load_boston()\n",
    "X = boston.data\n",
    "y = boston.target\n",
    "\n",
    "# Split the dataset into training and testing sets\n",
    "X_train, X_test, y_train, y_test = train_test_split(X, y, test_size=0.2, random_state=42)\n",
    "\n",
    "# Create a KNN regressor with K=3\n",
    "knn_regressor = KNeighborsRegressor(n_neighbors=3)\n",
    "\n",
    "# Train the regressor on the training data\n",
    "knn_regressor.fit(X_train, y_train)\n",
    "\n",
    "# Make predictions on the test data\n",
    "y_pred = knn_regressor.predict(X_test)\n",
    "\n",
    "# Evaluate the performance\n",
    "mse = mean_squared_error(y_test, y_pred)\n",
    "r2 = r2_score(y_test, y_pred)\n",
    "\n",
    "# Display the results\n",
    "print(f\"Mean Squared Error: {mse}\")\n",
    "print(f\"R-squared: {r2}\")\n"
   ]
  },
  {
   "cell_type": "code",
   "execution_count": null,
   "id": "72feb5e4-9c4c-45dd-99ff-b537199ca569",
   "metadata": {},
   "outputs": [],
   "source": [
    "This code performs the following steps:\n",
    "\n",
    "Loads the Boston Housing dataset using load_boston() from sklearn.datasets.\n",
    "Splits the dataset into training and testing sets using train_test_split.\n",
    "Creates a KNN regressor with KNeighborsRegressor from sklearn.neighbors with K=3.\n",
    "Trains the regressor on the training data using fit.\n",
    "Makes predictions on the test data using predict.\n",
    "Evaluates the performance using mean squared error (MSE) and R-squared.\n",
    "Make sure you have scikit-learn installed (pip install scikit-learn) before running this code."
   ]
  },
  {
   "cell_type": "markdown",
   "id": "915b2b7b-0c80-4bff-af42-0ccf34fa753d",
   "metadata": {},
   "source": [
    "## Qestion 3 --------------------------------------------------------------------------------------------------------------"
   ]
  },
  {
   "cell_type": "code",
   "execution_count": null,
   "id": "be3b99c4-dc68-46a5-bfa3-b030c78b7430",
   "metadata": {},
   "outputs": [],
   "source": [
    "\n",
    "Certainly! Here's a Python code snippet that demonstrates how to find the optimal value of K for the K-Nearest \n",
    "Neighbors (KNN) classifier algorithm using cross-validation on the load_iris dataset from sklearn.datasets:"
   ]
  },
  {
   "cell_type": "code",
   "execution_count": 11,
   "id": "dca079e1-f5b1-4cab-aeac-a74fd150fcb1",
   "metadata": {},
   "outputs": [
    {
     "data": {
      "image/png": "[encoded data removed]",
      "text/plain": [
       "<Figure size 640x480 with 1 Axes>"
      ]
     },
     "metadata": {},
     "output_type": "display_data"
    },
    {
     "name": "stdout",
     "output_type": "stream",
     "text": [
      "The optimal value of K is: 6\n"
     ]
    }
   ],
   "source": [
    "from sklearn.datasets import load_iris\n",
    "from sklearn.model_selection import cross_val_score\n",
    "from sklearn.neighbors import KNeighborsClassifier\n",
    "import matplotlib.pyplot as plt\n",
    "\n",
    "# Load the Iris dataset\n",
    "iris = load_iris()\n",
    "X = iris.data\n",
    "y = iris.target\n",
    "\n",
    "# Define a range of K values to explore\n",
    "k_values = list(range(1, 21))\n",
    "\n",
    "# Perform cross-validation for each K value\n",
    "cv_scores = []\n",
    "for k in k_values:\n",
    "    knn_classifier = KNeighborsClassifier(n_neighbors=k)\n",
    "    scores = cross_val_score(knn_classifier, X, y, cv=5, scoring='accuracy')\n",
    "    cv_scores.append(scores.mean())\n",
    "\n",
    "# Plot the cross-validation scores for different K values\n",
    "plt.plot(k_values, cv_scores, marker='o')\n",
    "plt.xlabel('K Value')\n",
    "plt.ylabel('Cross-Validation Accuracy')\n",
    "plt.title('Cross-Validation for Optimal K')\n",
    "plt.show()\n",
    "\n",
    "# Find the optimal K value\n",
    "optimal_k = k_values[cv_scores.index(max(cv_scores))]\n",
    "print(f\"The optimal value of K is: {optimal_k}\")\n"
   ]
  },
  {
   "cell_type": "code",
   "execution_count": null,
   "id": "f2bbdd3d-553b-41cb-b7e8-6d23c78b478d",
   "metadata": {},
   "outputs": [],
   "source": [
    "\n",
    "In this code:\n",
    "\n",
    "The cross_val_score function is used to perform cross-validation for each value of K (ranging from 1 to 20).\n",
    "The mean accuracy scores across the folds are collected for each K value.\n",
    "The results are plotted to visualize the cross-validation accuracy for different K values.\n",
    "The optimal K value is determined as the one that maximizes the cross-validation accuracy.\n",
    "Make sure you have scikit-learn and Matplotlib installed (pip install scikit-learn matplotlib) before running this code.\n",
    "\n"
   ]
  },
  {
   "cell_type": "markdown",
   "id": "6c26df2e-9a3a-4623-a65a-ab1cc285816f",
   "metadata": {},
   "source": [
    "## Qestion 4 --------------------------------------------------------------------------------------------------------------"
   ]
  },
  {
   "cell_type": "code",
   "execution_count": null,
   "id": "10a6a2d8-6c7f-465f-8267-855152d00d7c",
   "metadata": {},
   "outputs": [
    {
     "ename": "SyntaxError",
     "evalue": "unterminated string literal (detected at line 1) (69029413.py, line 1)",
     "output_type": "error",
     "traceback": [
      "\u001b[0;36m  Cell \u001b[0;32mIn[6], line 1\u001b[0;36m\u001b[0m\n\u001b[0;31m    The performance of a K-Nearest Neighbors (KNN) model can be assessed using appropriate evaluation metrics based on the specific task, whether it's classification or regression. Here are common metrics for each task:\u001b[0m\n\u001b[0m                                                                                                                                                    ^\u001b[0m\n\u001b[0;31mSyntaxError\u001b[0m\u001b[0;31m:\u001b[0m unterminated string literal (detected at line 1)\n"
     ]
    }
   ],
   "source": [
    "Certainly! Here's a Python code snippet that implements the K-Nearest Neighbors (KNN) regressor algorithm with feature scaling on the\n",
    "load_boston dataset from sklearn.datasets:"
   ]
  },
  {
   "cell_type": "code",
   "execution_count": null,
   "id": "5b126abe-75b5-437b-845b-1ce1d5b9b443",
   "metadata": {},
   "outputs": [],
   "source": [
    "from sklearn.datasets import load_boston\n",
    "from sklearn.model_selection import train_test_split\n",
    "from sklearn.preprocessing import StandardScaler\n",
    "from sklearn.neighbors import KNeighborsRegressor\n",
    "from sklearn.metrics import mean_squared_error, r2_score\n",
    "\n",
    "# Load the Boston Housing dataset\n",
    "boston = load_boston()\n",
    "X = boston.data\n",
    "y = boston.target\n",
    "\n",
    "# Split the dataset into training and testing sets\n",
    "X_train, X_test, y_train, y_test = train_test_split(X, y, test_size=0.2, random_state=42)\n",
    "\n",
    "# Apply feature scaling using StandardScaler\n",
    "scaler = StandardScaler()\n",
    "X_train_scaled = scaler.fit_transform(X_train)\n",
    "X_test_scaled = scaler.transform(X_test)\n",
    "\n",
    "# Create a KNN regressor with K=3\n",
    "knn_regressor = KNeighborsRegressor(n_neighbors=3)\n",
    "\n",
    "# Train the regressor on the scaled training data\n",
    "knn_regressor.fit(X_train_scaled, y_train)\n",
    "\n",
    "# Make predictions on the scaled test data\n",
    "y_pred_scaled = knn_regressor.predict(X_test_scaled)\n",
    "\n",
    "# Evaluate the performance\n",
    "mse_scaled = mean_squared_error(y_test, y_pred_scaled)\n",
    "r2_scaled = r2_score(y_test, y_pred_scaled)\n",
    "\n",
    "# Display the results\n",
    "print(f\"Mean Squared Error (scaled): {mse_scaled}\")\n",
    "print(f\"R-squared (scaled): {r2_scaled}\")\n"
   ]
  },
  {
   "cell_type": "code",
   "execution_count": null,
   "id": "f44e32d7-449b-47e1-ba32-19c472ffe339",
   "metadata": {},
   "outputs": [],
   "source": [
    "In this code:\n",
    "\n",
    "The StandardScaler is used to scale the features of the dataset, both for training and testing sets.\n",
    "The KNN regressor is created with KNeighborsRegressor from sklearn.neighbors.\n",
    "The regressor is trained on the scaled training data using fit.\n",
    "Predictions are made on the scaled test data using predict.\n",
    "The performance is evaluated using mean squared error (MSE) and R-squared for the scaled predictions.\n",
    "Make sure you have scikit-learn installed (pip install scikit-learn) before running this code."
   ]
  },
  {
   "cell_type": "code",
   "execution_count": null,
   "id": "1527da51-4aff-4782-be83-21011f91a7ac",
   "metadata": {},
   "outputs": [],
   "source": []
  },
  {
   "cell_type": "code",
   "execution_count": null,
   "id": "8855414a-fc38-4752-a881-fecee3c42499",
   "metadata": {},
   "outputs": [],
   "source": []
  },
  {
   "cell_type": "markdown",
   "id": "1fbae123-e8b6-4a9e-8691-16b297790f55",
   "metadata": {},
   "source": [
    "## Qestion 5 --------------------------------------------------------------------------------------------------------------"
   ]
  },
  {
   "cell_type": "code",
   "execution_count": 33,
   "id": "23803f32-dcb5-4597-bdc9-8b38f28d0325",
   "metadata": {},
   "outputs": [
    {
     "ename": "SyntaxError",
     "evalue": "unterminated string literal (detected at line 41) (3637594134.py, line 41)",
     "output_type": "error",
     "traceback": [
      "\u001b[0;36m  Cell \u001b[0;32mIn[33], line 41\u001b[0;36m\u001b[0m\n\u001b[0;31m    Let's illustrate the differences using a simple example with synthetic data:\u001b[0m\n\u001b[0m       ^\u001b[0m\n\u001b[0;31mSyntaxError\u001b[0m\u001b[0;31m:\u001b[0m unterminated string literal (detected at line 41)\n"
     ]
    }
   ],
   "source": [
    "\n",
    "Certainly! Here's a Python code snippet that implements the K-Nearest Neighbors (KNN) classifier algorithm with weighted \n",
    "voting on the load_iris dataset from sklearn.datasets:"
   ]
  },
  {
   "cell_type": "code",
   "execution_count": 13,
   "id": "bd66d044-7bd5-4715-9bd5-0488760218bd",
   "metadata": {},
   "outputs": [
    {
     "name": "stdout",
     "output_type": "stream",
     "text": [
      "Accuracy (weighted voting): 1.0\n",
      "\n",
      "Classification Report (weighted voting):\n",
      "              precision    recall  f1-score   support\n",
      "\n",
      "           0       1.00      1.00      1.00        10\n",
      "           1       1.00      1.00      1.00         9\n",
      "           2       1.00      1.00      1.00        11\n",
      "\n",
      "    accuracy                           1.00        30\n",
      "   macro avg       1.00      1.00      1.00        30\n",
      "weighted avg       1.00      1.00      1.00        30\n",
      "\n"
     ]
    }
   ],
   "source": [
    "from sklearn.datasets import load_iris\n",
    "from sklearn.model_selection import train_test_split\n",
    "from sklearn.neighbors import KNeighborsClassifier\n",
    "from sklearn.metrics import accuracy_score, classification_report\n",
    "\n",
    "# Load the Iris dataset\n",
    "iris = load_iris()\n",
    "X = iris.data\n",
    "y = iris.target\n",
    "\n",
    "# Split the dataset into training and testing sets\n",
    "X_train, X_test, y_train, y_test = train_test_split(X, y, test_size=0.2, random_state=42)\n",
    "\n",
    "# Create a KNN classifier with weighted voting (weights='distance')\n",
    "knn_classifier_weighted = KNeighborsClassifier(n_neighbors=3, weights='distance')\n",
    "\n",
    "# Train the classifier on the training data\n",
    "knn_classifier_weighted.fit(X_train, y_train)\n",
    "\n",
    "# Make predictions on the test data\n",
    "y_pred_weighted = knn_classifier_weighted.predict(X_test)\n",
    "\n",
    "# Evaluate the performance\n",
    "accuracy_weighted = accuracy_score(y_test, y_pred_weighted)\n",
    "classification_rep_weighted = classification_report(y_test, y_pred_weighted)\n",
    "\n",
    "# Display the results\n",
    "print(f\"Accuracy (weighted voting): {accuracy_weighted}\")\n",
    "print(\"\\nClassification Report (weighted voting):\")\n",
    "print(classification_rep_weighted)\n"
   ]
  },
  {
   "cell_type": "code",
   "execution_count": null,
   "id": "e79f1084-734f-4c2e-b59d-cfe7be5d23ed",
   "metadata": {},
   "outputs": [],
   "source": [
    "In this code:\n",
    "\n",
    "The KNeighborsClassifier is created with n_neighbors=3 and weights='distance' to enable weighted voting. The 'distance' option assigns \n",
    "weights to neighbors based on the inverse of their distance.\n",
    "The classifier is trained on the training data using fit.\n",
    "Predictions are made on the test data using predict.\n",
    "The performance is evaluated using accuracy and classification report for the weighted voting approach.\n",
    "Make sure you have scikit-learn installed (pip install scikit-learn) before running this code."
   ]
  },
  {
   "cell_type": "markdown",
   "id": "68ddcde6-8491-4209-b16b-37c212415cb5",
   "metadata": {},
   "source": [
    "## Qestion 6 --------------------------------------------------------------------------------------------------------------"
   ]
  },
  {
   "cell_type": "code",
   "execution_count": null,
   "id": "b4ddcb44-770f-4b20-a2b0-c589babfffd5",
   "metadata": {},
   "outputs": [],
   "source": [
    "\n",
    "Certainly! Standardizing features is a common preprocessing step before applying the K-Nearest Neighbors (KNN) classifier.\n",
    "Standardization involves scaling the features to have zero mean and unit variance. Here's a function that standardizes the features using\n",
    "scikit-learn's StandardScaler:"
   ]
  },
  {
   "cell_type": "code",
   "execution_count": 14,
   "id": "e9d9cfa4-dc0c-4f9a-a2f2-fad00344bc9b",
   "metadata": {},
   "outputs": [
    {
     "name": "stdout",
     "output_type": "stream",
     "text": [
      "Accuracy (with standardization): 1.0\n",
      "\n",
      "Classification Report (with standardization):\n",
      "              precision    recall  f1-score   support\n",
      "\n",
      "           0       1.00      1.00      1.00        10\n",
      "           1       1.00      1.00      1.00         9\n",
      "           2       1.00      1.00      1.00        11\n",
      "\n",
      "    accuracy                           1.00        30\n",
      "   macro avg       1.00      1.00      1.00        30\n",
      "weighted avg       1.00      1.00      1.00        30\n",
      "\n"
     ]
    }
   ],
   "source": [
    "from sklearn.preprocessing import StandardScaler\n",
    "from sklearn.neighbors import KNeighborsClassifier\n",
    "from sklearn.model_selection import train_test_split\n",
    "from sklearn.metrics import accuracy_score, classification_report\n",
    "from sklearn.datasets import load_iris\n",
    "\n",
    "def knn_classifier_with_standardization(X_train, X_test, y_train, y_test, n_neighbors=3):\n",
    "    # Standardize the features using StandardScaler\n",
    "    scaler = StandardScaler()\n",
    "    X_train_std = scaler.fit_transform(X_train)\n",
    "    X_test_std = scaler.transform(X_test)\n",
    "\n",
    "    # Create a KNN classifier\n",
    "    knn_classifier = KNeighborsClassifier(n_neighbors=n_neighbors)\n",
    "\n",
    "    # Train the classifier on the standardized training data\n",
    "    knn_classifier.fit(X_train_std, y_train)\n",
    "\n",
    "    # Make predictions on the standardized test data\n",
    "    y_pred_std = knn_classifier.predict(X_test_std)\n",
    "\n",
    "    # Evaluate the performance\n",
    "    accuracy_std = accuracy_score(y_test, y_pred_std)\n",
    "    classification_rep_std = classification_report(y_test, y_pred_std)\n",
    "\n",
    "    # Display the results\n",
    "    print(f\"Accuracy (with standardization): {accuracy_std}\")\n",
    "    print(\"\\nClassification Report (with standardization):\")\n",
    "    print(classification_rep_std)\n",
    "\n",
    "# Load the Iris dataset\n",
    "iris = load_iris()\n",
    "X = iris.data\n",
    "y = iris.target\n",
    "\n",
    "# Split the dataset into training and testing sets\n",
    "X_train, X_test, y_train, y_test = train_test_split(X, y, test_size=0.2, random_state=42)\n",
    "\n",
    "# Apply the function to train and evaluate the KNN classifier with standardization\n",
    "knn_classifier_with_standardization(X_train, X_test, y_train, y_test, n_neighbors=3)\n"
   ]
  },
  {
   "cell_type": "code",
   "execution_count": null,
   "id": "8d1db484-ca7d-4146-afd2-726378edccae",
   "metadata": {},
   "outputs": [],
   "source": [
    "This function, knn_classifier_with_standardization, takes the training and testing sets along with the number of neighbors as input,\n",
    "standardizes the features using StandardScaler, and then trains and evaluates the KNN classifier on the standardized data."
   ]
  },
  {
   "cell_type": "markdown",
   "id": "4e2e511a-2905-4ce4-ae85-09b75f9f8a5d",
   "metadata": {},
   "source": [
    "## Question 7 --------------------------------------------------------------------------------------------------------"
   ]
  },
  {
   "cell_type": "code",
   "execution_count": null,
   "id": "e98682aa-a6ab-475c-a63d-331b822c8c3b",
   "metadata": {},
   "outputs": [],
   "source": [
    "\n",
    "Certainly! Here's a simple Python function to calculate the Euclidean distance between two points in n-dimensional space:"
   ]
  },
  {
   "cell_type": "code",
   "execution_count": 15,
   "id": "b7e3531d-f25c-4517-91cd-b5021d8ffbd2",
   "metadata": {},
   "outputs": [
    {
     "name": "stdout",
     "output_type": "stream",
     "text": [
      "The Euclidean distance between [1, 2, 3] and [4, 5, 6] is: 5.196152422706632\n"
     ]
    }
   ],
   "source": [
    "import numpy as np\n",
    "\n",
    "def euclidean_distance(point1, point2):\n",
    "    \"\"\"\n",
    "    Calculate the Euclidean distance between two points.\n",
    "\n",
    "    Parameters:\n",
    "    - point1: numpy array or list, representing the coordinates of the first point.\n",
    "    - point2: numpy array or list, representing the coordinates of the second point.\n",
    "\n",
    "    Returns:\n",
    "    - float: The Euclidean distance between the two points.\n",
    "    \"\"\"\n",
    "    point1 = np.array(point1)\n",
    "    point2 = np.array(point2)\n",
    "    \n",
    "    # Ensure both points have the same dimensionality\n",
    "    if len(point1) != len(point2):\n",
    "        raise ValueError(\"Both points must have the same dimensionality.\")\n",
    "\n",
    "    distance = np.sqrt(np.sum((point1 - point2) ** 2))\n",
    "    return distance\n",
    "\n",
    "# Example usage:\n",
    "point_a = [1, 2, 3]\n",
    "point_b = [4, 5, 6]\n",
    "\n",
    "distance_ab = euclidean_distance(point_a, point_b)\n",
    "print(f\"The Euclidean distance between {point_a} and {point_b} is: {distance_ab}\")\n"
   ]
  },
  {
   "cell_type": "code",
   "execution_count": null,
   "id": "24a92d6f-180a-447a-82f8-151e43e98d29",
   "metadata": {},
   "outputs": [],
   "source": []
  },
  {
   "cell_type": "markdown",
   "id": "af5794af-3432-4f3a-9869-8e1e4e441723",
   "metadata": {},
   "source": [
    "## Question 8 --------------------------------------------------------------------------------------------------------"
   ]
  },
  {
   "cell_type": "code",
   "execution_count": null,
   "id": "738cff76-ad6b-4252-8fcf-09caa27e0dbc",
   "metadata": {},
   "outputs": [],
   "source": [
    "\n",
    "Certainly! Here's a Python function to calculate the Manhattan distance (L1 norm) between two points in n-dimensional space:"
   ]
  },
  {
   "cell_type": "code",
   "execution_count": 16,
   "id": "5bcefafb-5a90-4e64-b8ea-51946f335d00",
   "metadata": {},
   "outputs": [
    {
     "name": "stdout",
     "output_type": "stream",
     "text": [
      "The Manhattan distance between [1, 2, 3] and [4, 5, 6] is: 9\n"
     ]
    }
   ],
   "source": [
    "import numpy as np\n",
    "\n",
    "def manhattan_distance(point1, point2):\n",
    "    \"\"\"\n",
    "    Calculate the Manhattan distance between two points.\n",
    "\n",
    "    Parameters:\n",
    "    - point1: numpy array or list, representing the coordinates of the first point.\n",
    "    - point2: numpy array or list, representing the coordinates of the second point.\n",
    "\n",
    "    Returns:\n",
    "    - float: The Manhattan distance between the two points.\n",
    "    \"\"\"\n",
    "    point1 = np.array(point1)\n",
    "    point2 = np.array(point2)\n",
    "    \n",
    "    # Ensure both points have the same dimensionality\n",
    "    if len(point1) != len(point2):\n",
    "        raise ValueError(\"Both points must have the same dimensionality.\")\n",
    "\n",
    "    distance = np.sum(np.abs(point1 - point2))\n",
    "    return distance\n",
    "\n",
    "# Example usage:\n",
    "point_a = [1, 2, 3]\n",
    "point_b = [4, 5, 6]\n",
    "\n",
    "distance_ab = manhattan_distance(point_a, point_b)\n",
    "print(f\"The Manhattan distance between {point_a} and {point_b} is: {distance_ab}\")\n"
   ]
  },
  {
   "cell_type": "code",
   "execution_count": null,
   "id": "fadb7ac7-49fa-4584-b9c0-97a7be5e8a1e",
   "metadata": {},
   "outputs": [],
   "source": []
  }
 ],
 "metadata": {
  "kernelspec": {
   "display_name": "Python 3 (ipykernel)",
   "language": "python",
   "name": "python3"
  },
  "language_info": {
   "codemirror_mode": {
    "name": "ipython",
    "version": 3
   },
   "file_extension": ".py",
   "mimetype": "text/x-python",
   "name": "python",
   "nbconvert_exporter": "python",
   "pygments_lexer": "ipython3",
   "version": "3.10.8"
  }
 },
 "nbformat": 4,
 "nbformat_minor": 5
}
