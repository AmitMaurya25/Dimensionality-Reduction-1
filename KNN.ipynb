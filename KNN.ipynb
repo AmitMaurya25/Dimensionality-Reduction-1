{
 "cells": [
  {
   "cell_type": "markdown",
   "id": "178a5f14-fcaa-47ab-a800-0f820c126af1",
   "metadata": {},
   "source": [
    "# ## Question 1------------------------------------------------------------------------------------------------------------------\n"
   ]
  },
  {
   "cell_type": "code",
   "execution_count": null,
   "id": "c4d7701e-cf98-4cae-8f0b-9950c745d2a4",
   "metadata": {
    "tags": []
   },
   "outputs": [],
   "source": [
    "K-Nearest Neighbors (KNN) is a simple and widely used classification and regression algorithm in machine learning. It is a non-parametric\n",
    "and lazy learning algorithm that can be used for both classification and regression tasks. The basic idea behind KNN is to find the K nearest\n",
    "data points in the training set to a given test data point and make predictions based on the majority class (for classification) or the average \n",
    "of the K nearest neighbors' values (for regression).\n",
    "\n",
    "Here's a simple example of KNN classification using Python and the scikit-learn library:"
   ]
  },
  {
   "cell_type": "code",
   "execution_count": 1,
   "id": "031e3bf2-ad71-4b45-9879-057bedaff81d",
   "metadata": {},
   "outputs": [
    {
     "name": "stdout",
     "output_type": "stream",
     "text": [
      "Accuracy: 0.0\n"
     ]
    }
   ],
   "source": [
    "# Import necessary libraries\n",
    "from sklearn.model_selection import train_test_split\n",
    "from sklearn.neighbors import KNeighborsClassifier\n",
    "from sklearn.metrics import accuracy_score\n",
    "\n",
    "# Sample dataset for illustration\n",
    "# In a real-world scenario, you would load your dataset\n",
    "# X represents features, y represents labels\n",
    "X = [[1, 2], [2, 3], [3, 1], [6, 5], [7, 7], [8, 6]]\n",
    "y = [0, 0, 0, 1, 1, 1]\n",
    "\n",
    "# Split the dataset into training and testing sets\n",
    "X_train, X_test, y_train, y_test = train_test_split(X, y, test_size=0.2, random_state=42)\n",
    "\n",
    "# Create a KNN classifier with K=3\n",
    "knn_classifier = KNeighborsClassifier(n_neighbors=3)\n",
    "\n",
    "# Train the classifier on the training data\n",
    "knn_classifier.fit(X_train, y_train)\n",
    "\n",
    "# Make predictions on the test data\n",
    "y_pred = knn_classifier.predict(X_test)\n",
    "\n",
    "# Calculate accuracy\n",
    "accuracy = accuracy_score(y_test, y_pred)\n",
    "print(f\"Accuracy: {accuracy}\")\n"
   ]
  },
  {
   "cell_type": "code",
   "execution_count": null,
   "id": "a88524de-23ac-4caa-8475-23a389730d5f",
   "metadata": {},
   "outputs": [],
   "source": [
    "In this example, we use a small sample dataset with two features (X) and corresponding labels (y). We split the data into training and testing sets,\n",
    "create a KNN classifier with n_neighbors=3, train the model, make predictions on the test data, and calculate the accuracy of the model."
   ]
  },
  {
   "cell_type": "markdown",
   "id": "f16f4011-2dd6-42a4-a05e-4a1bac19425e",
   "metadata": {},
   "source": [
    "## Qestion 2 --------------------------------------------------------------------------------------------------------------"
   ]
  },
  {
   "cell_type": "code",
   "execution_count": null,
   "id": "0db6999d-bea5-49fb-bd82-931a82c42292",
   "metadata": {},
   "outputs": [],
   "source": [
    "\n",
    "Choosing the right value for the parameter K in K-Nearest Neighbors (KNN) is crucial for the performance of the algorithm. \n",
    "\n",
    "A small value of K might lead to overfitting, while a large value of K might lead to underfitting. The choice of K depends on the characteristics\n",
    "of the dataset. Here are some common methods to choose the value of K:\n",
    "\n",
    "Grid Search:\n",
    "You can perform a grid search over a range of K values and evaluate the performance of the model using cross-validation. This helps you find the\n",
    "K value that results in the best performance.\n",
    "\n",
    "Odd K Values:\n",
    "Choosing an odd value for K is recommended in binary classification problems to avoid ties when determining the majority class.\n",
    "\n",
    "Domain Knowledge:\n",
    "Consider the characteristics of your dataset and the nature of the problem. Sometimes, domain knowledge or the specific requirements of the problem \n",
    "can guide the choice of K.\n",
    "\n",
    "Here's an example using grid search with cross-validation to find the optimal value of K:"
   ]
  },
  {
   "cell_type": "code",
   "execution_count": null,
   "id": "ebaea2ec-c79c-4fcb-9697-fd53254f4068",
   "metadata": {},
   "outputs": [],
   "source": [
    "from sklearn.model_selection import GridSearchCV\n",
    "\n",
    "# Sample dataset for illustration\n",
    "# In a real-world scenario, you would load your dataset\n",
    "# X represents features, y represents labels\n",
    "X = [[1, 2], [2, 3], [3, 1], [6, 5], [7, 7], [8, 6]]\n",
    "y = [0, 0, 0, 1, 1, 1]\n",
    "\n",
    "# Create a KNN classifier\n",
    "knn_classifier = KNeighborsClassifier()\n",
    "\n",
    "# Define a range of K values to search\n",
    "param_grid = {'n_neighbors': [1, 3, 5, 7, 9]}\n",
    "\n",
    "# Perform grid search with cross-validation\n",
    "grid_search = GridSearchCV(knn_classifier, param_grid, cv=5, scoring='accuracy')\n",
    "grid_search.fit(X, y)\n",
    "\n",
    "# Print the best parameter (K value)\n",
    "print(f\"Best K value: {grid_search.best_params_['n_neighbors']}\")\n"
   ]
  },
  {
   "cell_type": "markdown",
   "id": "915b2b7b-0c80-4bff-af42-0ccf34fa753d",
   "metadata": {},
   "source": [
    "## Qestion 3 --------------------------------------------------------------------------------------------------------------"
   ]
  },
  {
   "cell_type": "code",
   "execution_count": null,
   "id": "be3b99c4-dc68-46a5-bfa3-b030c78b7430",
   "metadata": {},
   "outputs": [],
   "source": [
    "K-Nearest Neighbors (KNN) can be used for both classification and regression tasks. The primary difference between KNN classifier \n",
    "and KNN regressor lies in the type of prediction they make:\n",
    "\n",
    "KNN Classifier:\n",
    "\n",
    "Used for classification tasks where the goal is to predict the class or category of a given data point.\n",
    "The predicted output is the majority class among the K nearest neighbors.\n",
    "Output is a discrete class label.\n",
    "KNN Regressor:\n",
    "\n",
    "Used for regression tasks where the goal is to predict a continuous numeric value for a given data point.\n",
    "The predicted output is the average (or weighted average) of the target values of the K nearest neighbors.\n",
    "Output is a continuous numeric value.\n",
    "Here's an example illustrating the difference between KNN classifier and KNN regressor using Python and scikit-learn:\n",
    "\n",
    "KNN Classifier Example:"
   ]
  },
  {
   "cell_type": "code",
   "execution_count": 4,
   "id": "dca079e1-f5b1-4cab-aeac-a74fd150fcb1",
   "metadata": {},
   "outputs": [
    {
     "name": "stdout",
     "output_type": "stream",
     "text": [
      "Accuracy: 0.0\n"
     ]
    }
   ],
   "source": [
    "from sklearn.neighbors import KNeighborsClassifier\n",
    "from sklearn.model_selection import train_test_split\n",
    "from sklearn.metrics import accuracy_score\n",
    "\n",
    "# Sample classification dataset for illustration\n",
    "# X represents features, y represents labels\n",
    "X = [[1, 2], [2, 3], [3, 1], [6, 5], [7, 7], [8, 6]]\n",
    "y = [0, 0, 0, 1, 1, 1]\n",
    "\n",
    "# Split the dataset into training and testing sets\n",
    "X_train, X_test, y_train, y_test = train_test_split(X, y, test_size=0.2, random_state=42)\n",
    "\n",
    "# Create a KNN classifier with K=3\n",
    "knn_classifier = KNeighborsClassifier(n_neighbors=3)\n",
    "\n",
    "# Train the classifier on the training data\n",
    "knn_classifier.fit(X_train, y_train)\n",
    "\n",
    "# Make predictions on the test data\n",
    "y_pred = knn_classifier.predict(X_test)\n",
    "\n",
    "# Calculate accuracy\n",
    "accuracy = accuracy_score(y_test, y_pred)\n",
    "print(f\"Accuracy: {accuracy}\")\n"
   ]
  },
  {
   "cell_type": "code",
   "execution_count": 5,
   "id": "f2bbdd3d-553b-41cb-b7e8-6d23c78b478d",
   "metadata": {},
   "outputs": [
    {
     "name": "stdout",
     "output_type": "stream",
     "text": [
      "Mean Squared Error: 246.44444444444449\n"
     ]
    }
   ],
   "source": [
    "from sklearn.neighbors import KNeighborsRegressor\n",
    "from sklearn.model_selection import train_test_split\n",
    "from sklearn.metrics import mean_squared_error\n",
    "\n",
    "# Sample regression dataset for illustration\n",
    "# X represents features, y represents target values\n",
    "X = [[1, 2], [2, 3], [3, 1], [6, 5], [7, 7], [8, 6]]\n",
    "y = [10, 12, 15, 30, 35, 40]\n",
    "\n",
    "# Split the dataset into training and testing sets\n",
    "X_train, X_test, y_train, y_test = train_test_split(X, y, test_size=0.2, random_state=42)\n",
    "\n",
    "# Create a KNN regressor with K=3\n",
    "knn_regressor = KNeighborsRegressor(n_neighbors=3)\n",
    "\n",
    "# Train the regressor on the training data\n",
    "knn_regressor.fit(X_train, y_train)\n",
    "\n",
    "# Make predictions on the test data\n",
    "y_pred = knn_regressor.predict(X_test)\n",
    "\n",
    "# Calculate mean squared error\n",
    "mse = mean_squared_error(y_test, y_pred)\n",
    "print(f\"Mean Squared Error: {mse}\")\n"
   ]
  },
  {
   "cell_type": "markdown",
   "id": "6c26df2e-9a3a-4623-a65a-ab1cc285816f",
   "metadata": {},
   "source": [
    "## Qestion 4 --------------------------------------------------------------------------------------------------------------"
   ]
  },
  {
   "cell_type": "code",
   "execution_count": null,
   "id": "10a6a2d8-6c7f-465f-8267-855152d00d7c",
   "metadata": {},
   "outputs": [
    {
     "ename": "SyntaxError",
     "evalue": "unterminated string literal (detected at line 1) (69029413.py, line 1)",
     "output_type": "error",
     "traceback": [
      "\u001b[0;36m  Cell \u001b[0;32mIn[6], line 1\u001b[0;36m\u001b[0m\n\u001b[0;31m    The performance of a K-Nearest Neighbors (KNN) model can be assessed using appropriate evaluation metrics based on the specific task, whether it's classification or regression. Here are common metrics for each task:\u001b[0m\n\u001b[0m                                                                                                                                                    ^\u001b[0m\n\u001b[0;31mSyntaxError\u001b[0m\u001b[0;31m:\u001b[0m unterminated string literal (detected at line 1)\n"
     ]
    }
   ],
   "source": [
    "The performance of a K-Nearest Neighbors (KNN) model can be assessed using appropriate evaluation metrics based on the specific task,\n",
    "whether it's classification or regression. Here are common metrics for each task:\n",
    "\n",
    "KNN Classification Metrics:\n",
    "Accuracy:\n",
    "The proportion of correctly classified instances out of the total instances.\n",
    "Suitable for balanced datasets."
   ]
  },
  {
   "cell_type": "code",
   "execution_count": null,
   "id": "5b126abe-75b5-437b-845b-1ce1d5b9b443",
   "metadata": {},
   "outputs": [],
   "source": [
    "from sklearn.metrics import accuracy_score\n",
    "\n",
    "# Assuming y_test and y_pred are the true labels and predicted labels, respectively\n",
    "accuracy = accuracy_score(y_test, y_pred)\n",
    "print(f\"Accuracy: {accuracy}\")\n"
   ]
  },
  {
   "cell_type": "code",
   "execution_count": null,
   "id": "f44e32d7-449b-47e1-ba32-19c472ffe339",
   "metadata": {},
   "outputs": [],
   "source": [
    "Confusion Matrix:\n",
    "Provides a breakdown of true positive, true negative, false positive, and false negative predictions.;j\n",
    "from sklearn.metrics import confusion_matrix\n",
    "\n",
    "conf_matrix = confusion_matrix(y_test, y_pred)\n",
    "print(\"Confusion Matrix:\")\n",
    "print(conf_matrix)\n"
   ]
  },
  {
   "cell_type": "code",
   "execution_count": null,
   "id": "1527da51-4aff-4782-be83-21011f91a7ac",
   "metadata": {},
   "outputs": [],
   "source": [
    "Precision, Recall, and F1-Score:\n",
    "Useful for imbalanced datasets.\n",
    "Precision: Proportion of true positives among predicted positives.\n",
    "Recall: Proportion of true positives among actual positives.\n",
    "F1-Score: Harmonic mean of precision and recall.\n",
    "\n",
    "from sklearn.metrics import precision_score, recall_score, f1_score\n",
    "\n",
    "precision = precision_score(y_test, y_pred)\n",
    "recall = recall_score(y_test, y_pred)\n",
    "f1 = f1_score(y_test, y_pred)\n",
    "\n",
    "print(f\"Precision: {precision}\")\n",
    "print(f\"Recall: {recall}\")\n",
    "print(f\"F1-Score: {f1}\")\n"
   ]
  },
  {
   "cell_type": "code",
   "execution_count": null,
   "id": "8855414a-fc38-4752-a881-fecee3c42499",
   "metadata": {},
   "outputs": [],
   "source": [
    "KNN Regression Metrics:\n",
    "Mean Squared Error (MSE):\n",
    "Measures the average squared difference between predicted and true values.\n",
    "python\n",
    "Copy code\n",
    "from sklearn.metrics import mean_squared_error\n",
    "\n",
    "# Assuming y_test and y_pred are the true labels and predicted labels, respectively\n",
    "mse = mean_squared_error(y_test, y_pred)\n",
    "print(f\"Mean Squared Error: {mse}\")\n",
    "R-squared (R2 Score):\n",
    "Represents the proportion of the variance in the dependent variable that is predictable from the independent variables.\n",
    "python\n",
    "Copy code\n",
    "from sklearn.metrics import r2_score\n",
    "\n",
    "r2 = r2_score(y_test, y_pred)\n",
    "print(f\"R-squared (R2): {r2}\")\n",
    "Choose the appropriate metrics based on the specific characteristics of your data and the goals of your machine learning task. Additionally, consider cross-validation for a more robust evaluation of your KNN model."
   ]
  },
  {
   "cell_type": "markdown",
   "id": "1fbae123-e8b6-4a9e-8691-16b297790f55",
   "metadata": {},
   "source": [
    "## Qestion 5 --------------------------------------------------------------------------------------------------------------"
   ]
  },
  {
   "cell_type": "code",
   "execution_count": 33,
   "id": "23803f32-dcb5-4597-bdc9-8b38f28d0325",
   "metadata": {},
   "outputs": [
    {
     "ename": "SyntaxError",
     "evalue": "unterminated string literal (detected at line 41) (3637594134.py, line 41)",
     "output_type": "error",
     "traceback": [
      "\u001b[0;36m  Cell \u001b[0;32mIn[33], line 41\u001b[0;36m\u001b[0m\n\u001b[0;31m    Let's illustrate the differences using a simple example with synthetic data:\u001b[0m\n\u001b[0m       ^\u001b[0m\n\u001b[0;31mSyntaxError\u001b[0m\u001b[0;31m:\u001b[0m unterminated string literal (detected at line 41)\n"
     ]
    }
   ],
   "source": [
    "The \"curse of dimensionality\" refers to the challenges and issues that arise when working with high-dimensional data in machine learning,\n",
    "particularly with algorithms like K-Nearest Neighbors (KNN). As the number of features or dimensions increases, the amount of data needed to \n",
    "generalize well increases exponentially, leading to several problems. Here are some aspects of the curse of dimensionality:\n",
    "\n",
    "Increased Sparsity:\n",
    "\n",
    "In high-dimensional spaces, data points become more sparse. Most data points are far from each other, making it harder to find meaningful neighbors.\n",
    "Increased Distance between Points:\n",
    "\n",
    "As the number of dimensions increases, the distance between points also increases. This can make the notion of \"closeness\" less meaningful, \n",
    "as most points are roughly equidistant from each other.\n",
    "Increased Computational Complexity:\n",
    "\n",
    "Computing distances between points becomes computationally more expensive as the number of dimensions increases, making algorithms like KNN slower \n",
    "and less efficient.\n",
    "Need for More Data:\n",
    "\n",
    "The curse of dimensionality implies that to maintain the same level of data density, the amount of data required grows exponentially with the number \n",
    "of dimensions.\n",
    "To illustrate the curse of dimensionality, let's consider a simple example using randomly generated data points in a high-dimensional space:"
   ]
  },
  {
   "cell_type": "code",
   "execution_count": 9,
   "id": "bd66d044-7bd5-4715-9bd5-0488760218bd",
   "metadata": {},
   "outputs": [
    {
     "data": {
      "image/png": "[encoded data removed]",
      "text/plain": [
       "<Figure size 1200x600 with 5 Axes>"
      ]
     },
     "metadata": {},
     "output_type": "display_data"
    }
   ],
   "source": [
    "import numpy as np\n",
    "import matplotlib.pyplot as plt\n",
    "\n",
    "# Function to generate random data points in a high-dimensional space\n",
    "def generate_high_dimensional_data(num_points, num_dimensions):\n",
    "    return np.random.rand(num_points, num_dimensions)\n",
    "\n",
    "# Set the number of data points and dimensions\n",
    "num_points = 100\n",
    "num_dimensions = [2, 5, 10, 20, 50]\n",
    "\n",
    "# Plot the sparsity of data points in different dimensional spaces\n",
    "plt.figure(figsize=(12, 6))\n",
    "\n",
    "for dim in num_dimensions:\n",
    "    data_points = generate_high_dimensional_data(num_points, dim)\n",
    "    plt.subplot(2, 3, num_dimensions.index(dim) + 1)\n",
    "    plt.scatter(data_points[:, 0], data_points[:, 1], marker='.')\n",
    "    plt.title(f'Dimension = {dim}')\n",
    "\n",
    "plt.tight_layout()\n",
    "plt.show()\n"
   ]
  },
  {
   "cell_type": "code",
   "execution_count": null,
   "id": "e79f1084-734f-4c2e-b59d-cfe7be5d23ed",
   "metadata": {},
   "outputs": [],
   "source": []
  },
  {
   "cell_type": "markdown",
   "id": "68ddcde6-8491-4209-b16b-37c212415cb5",
   "metadata": {},
   "source": [
    "## Qestion 6 --------------------------------------------------------------------------------------------------------------"
   ]
  },
  {
   "cell_type": "code",
   "execution_count": null,
   "id": "b4ddcb44-770f-4b20-a2b0-c589babfffd5",
   "metadata": {},
   "outputs": [],
   "source": [
    "\n",
    "Handling missing values in K-Nearest Neighbors (KNN) involves imputing or filling in the missing values using information \n",
    "from the neighboring data points. The basic idea is to estimate the missing values based on the values of their nearest neighbors. \n",
    "Here's a general approach using the KNNImputer class from scikit-learn:"
   ]
  },
  {
   "cell_type": "code",
   "execution_count": 10,
   "id": "72697333-fc59-4434-b5ac-4f58d52e01b7",
   "metadata": {},
   "outputs": [
    {
     "name": "stdout",
     "output_type": "stream",
     "text": [
      "Original dataset with missing values:\n",
      "[[ 1.  2. nan]\n",
      " [ 4.  5.  6.]\n",
      " [ 7.  8.  9.]\n",
      " [nan 11. 12.]]\n",
      "\n",
      "Imputed dataset:\n",
      "[[ 1.   2.   7.5]\n",
      " [ 4.   5.   6. ]\n",
      " [ 7.   8.   9. ]\n",
      " [ 5.5 11.  12. ]]\n"
     ]
    }
   ],
   "source": [
    "from sklearn.impute import KNNImputer\n",
    "import numpy as np\n",
    "\n",
    "# Create a dataset with missing values (NaN)\n",
    "X = np.array([[1, 2, np.nan],\n",
    "              [4, 5, 6],\n",
    "              [7, 8, 9],\n",
    "              [np.nan, 11, 12]])\n",
    "\n",
    "# Create a KNN imputer with K=2 (number of neighbors to consider)\n",
    "knn_imputer = KNNImputer(n_neighbors=2)\n",
    "\n",
    "# Fit and transform the dataset to fill in missing values\n",
    "X_imputed = knn_imputer.fit_transform(X)\n",
    "\n",
    "# Display the imputed dataset\n",
    "print(\"Original dataset with missing values:\")\n",
    "print(X)\n",
    "print(\"\\nImputed dataset:\")\n",
    "print(X_imputed)\n"
   ]
  },
  {
   "cell_type": "code",
   "execution_count": null,
   "id": "7c8f0d32-cdac-4d25-b80a-7a22b1441ee3",
   "metadata": {},
   "outputs": [],
   "source": [
    "In this example, we use the KNNImputer class, which replaces missing values with the mean value of the K-nearest neighbors for each missing value.\n",
    "You can adjust the n_neighbors parameter based on your specific needs. Note that the KNNImputer works well when the dataset is not too large,\n",
    "as it computes distances between data points.\n",
    "\n",
    "Keep in mind that handling missing values with KNN may not be suitable for every dataset, especially if there are a large number of missing values \n",
    "\n",
    "or if the missing values are not missing at random. It's essential to consider the characteristics of your data and the nature of the missing values.\n",
    "\n",
    "Additionally, you may need to preprocess your data by handling categorical variables, scaling features, or addressing other issues based on the \n",
    "requirements of your specific machine learning task."
   ]
  },
  {
   "cell_type": "markdown",
   "id": "bb3b6c98-0564-42b4-a965-6a54a7ab3046",
   "metadata": {},
   "source": [
    "## Qestion 7 --------------------------------------------------------------------------------------------------------------"
   ]
  },
  {
   "cell_type": "code",
   "execution_count": null,
   "id": "e7ef70f7-e92f-43eb-80d9-b697431a7a01",
   "metadata": {},
   "outputs": [],
   "source": [
    "\n",
    "The choice between a KNN classifier and a KNN regressor depends on the nature of the problem you are trying to solve—whether \n",
    "it is a classification or regression task.\n",
    "\n",
    "KNN Classifier:\n",
    "Use Case: Classification tasks, where the goal is to predict the class or category of a given data point.\n",
    "Output: Discrete class labels.\n",
    "Evaluation Metrics: Accuracy, precision, recall, F1-score, etc.\n",
    "Here's a simple example of a KNN classifier:"
   ]
  },
  {
   "cell_type": "code",
   "execution_count": 11,
   "id": "262d0691-281a-451b-bfe7-8b6a117c67fc",
   "metadata": {},
   "outputs": [
    {
     "name": "stdout",
     "output_type": "stream",
     "text": [
      "Accuracy: 0.0\n"
     ]
    }
   ],
   "source": [
    "from sklearn.neighbors import KNeighborsClassifier\n",
    "from sklearn.model_selection import train_test_split\n",
    "from sklearn.metrics import accuracy_score\n",
    "\n",
    "# Sample classification dataset\n",
    "X = [[1, 2], [2, 3], [3, 1], [6, 5], [7, 7], [8, 6]]\n",
    "y = [0, 0, 0, 1, 1, 1]\n",
    "\n",
    "# Split the dataset into training and testing sets\n",
    "X_train, X_test, y_train, y_test = train_test_split(X, y, test_size=0.2, random_state=42)\n",
    "\n",
    "# Create a KNN classifier with K=3\n",
    "knn_classifier = KNeighborsClassifier(n_neighbors=3)\n",
    "\n",
    "# Train the classifier on the training data\n",
    "knn_classifier.fit(X_train, y_train)\n",
    "\n",
    "# Make predictions on the test data\n",
    "y_pred = knn_classifier.predict(X_test)\n",
    "\n",
    "# Calculate accuracy\n",
    "accuracy = accuracy_score(y_test, y_pred)\n",
    "print(f\"Accuracy: {accuracy}\")\n"
   ]
  },
  {
   "cell_type": "code",
   "execution_count": null,
   "id": "e6c0cc21-0694-4579-9d45-28225c7197c9",
   "metadata": {},
   "outputs": [],
   "source": [
    "KNN Regressor:\n",
    "Use Case: Regression tasks, where the goal is to predict a continuous numeric value for a given data point.\n",
    "Output: Continuous numeric values.\n",
    "Evaluation Metrics: Mean Squared Error (MSE), R-squared, etc.\n",
    "Here's a simple example of a KNN regressor:"
   ]
  },
  {
   "cell_type": "code",
   "execution_count": 12,
   "id": "2246570f-0c31-487b-a08b-828470b7c76a",
   "metadata": {},
   "outputs": [
    {
     "name": "stdout",
     "output_type": "stream",
     "text": [
      "Mean Squared Error: 246.44444444444449\n"
     ]
    }
   ],
   "source": [
    "from sklearn.neighbors import KNeighborsRegressor\n",
    "from sklearn.model_selection import train_test_split\n",
    "from sklearn.metrics import mean_squared_error\n",
    "\n",
    "# Sample regression dataset\n",
    "X = [[1, 2], [2, 3], [3, 1], [6, 5], [7, 7], [8, 6]]\n",
    "y = [10, 12, 15, 30, 35, 40]\n",
    "\n",
    "# Split the dataset into training and testing sets\n",
    "X_train, X_test, y_train, y_test = train_test_split(X, y, test_size=0.2, random_state=42)\n",
    "\n",
    "# Create a KNN regressor with K=3\n",
    "knn_regressor = KNeighborsRegressor(n_neighbors=3)\n",
    "\n",
    "# Train the regressor on the training data\n",
    "knn_regressor.fit(X_train, y_train)\n",
    "\n",
    "# Make predictions on the test data\n",
    "y_pred = knn_regressor.predict(X_test)\n",
    "\n",
    "# Calculate mean squared error\n",
    "mse = mean_squared_error(y_test, y_pred)\n",
    "print(f\"Mean Squared Error: {mse}\")\n"
   ]
  },
  {
   "cell_type": "code",
   "execution_count": null,
   "id": "1d1db11b-5748-42c7-afd3-dba26cd90f96",
   "metadata": {},
   "outputs": [],
   "source": [
    "Considerations:\n",
    "\n",
    "Use a KNN classifier when dealing with classification problems, such as spam detection or image categorization.\n",
    "Use a KNN regressor when dealing with regression problems, such as predicting house prices or temperature.\n",
    "It's important to choose the appropriate algorithm based on the nature of your data and the goals of your specific machine learning task."
   ]
  },
  {
   "cell_type": "markdown",
   "id": "8f664853-299e-4ce4-afc8-6e2cb90c361a",
   "metadata": {},
   "source": [
    "## Question 8 --------------------------------------------------------------------------------------------------------------"
   ]
  },
  {
   "cell_type": "code",
   "execution_count": null,
   "id": "a57af3f6-ddf7-4246-a4e8-f2e88eff41b4",
   "metadata": {},
   "outputs": [],
   "source": [
    "Strengths of KNN Algorithm:\n",
    "\n",
    "Simple to Implement: KNN is easy to understand and implement, making it a good choice for quick prototyping and baseline models.\n",
    "\n",
    "Non-Parametric: KNN is a non-parametric algorithm, meaning it does not make assumptions about the underlying data distribution.\n",
    "\n",
    "Adaptability to Data: KNN can adapt well to different types of data and doesn't assume a specific functional form for the underlying relationship\n",
    "between features and labels.\n",
    "\n",
    "No Training Phase: KNN does not have a separate training phase; the model is simply stored during the training process, making it particularly useful \n",
    "for online learning scenarios.\n",
    "\n",
    "Weaknesses of KNN Algorithm:\n",
    "\n",
    "Computational Cost: As the dataset size increases, the computational cost of predicting new instances grows, since KNN needs to compute distances to \n",
    "all training samples.\n",
    "\n",
    "Sensitivity to Outliers: KNN is sensitive to outliers and noisy data, as they can significantly impact the distance calculations and, consequently, \n",
    "the predictions.\n",
    "\n",
    "Curse of Dimensionality: KNN performance deteriorates as the number of dimensions increases due to the increased sparsity and computational complexity \n",
    "in high-dimensional spaces.\n",
    "\n",
    "Need for Feature Scaling: Features with larger scales may dominate the distance calculations, so it's often necessary to scale or normalize thefeatures.\n",
    "\n",
    "Addressing Weaknesses:\n",
    "Use Feature Scaling:\n",
    "\n",
    "Scale or normalize the features to ensure that all features contribute equally to distance calculations.\n",
    "python\n",
    "Copy code\n",
    "from sklearn.preprocessing import StandardScaler\n",
    "\n",
    "# Assuming X is your feature matrix\n",
    "scaler = StandardScaler()\n",
    "X_scaled = scaler.fit_transform(X)\n",
    "Handle Outliers:\n",
    "\n",
    "Identify and handle outliers in the data, possibly by using robust scaling methods or removing outliers.\n",
    "Dimensionality Reduction:\n",
    "\n",
    "Consider dimensionality reduction techniques (e.g., PCA) to mitigate the curse of dimensionality.\n",
    "Optimize K Value:\n",
    "\n",
    "Choose an appropriate value for the parameter K through cross-validation or grid search.\n",
    "python\n",
    "Copy code\n",
    "from sklearn.model_selection import GridSearchCV\n",
    "\n",
    "# Assuming you have a KNN model (knn_classifier or knn_regressor) and a parameter grid\n",
    "param_grid = {'n_neighbors': [1, 3, 5, 7, 9]}\n",
    "grid_search = GridSearchCV(knn_model, param_grid, cv=5)\n",
    "grid_search.fit(X, y)\n",
    "optimal_k = grid_search.best_params_['n_neighbors']\n",
    "Consider Distance Weights:\n",
    "\n",
    "Introduce distance weights to give more importance to closer neighbors in the prediction.\n",
    "python\n",
    "Copy code\n",
    "knn_regressor = KNeighborsRegressor(n_neighbors=3, weights='distance')\n",
    "Use Approximate Nearest Neighbors:\n",
    "\n",
    "For large datasets, consider using approximate nearest neighbors algorithms to speed up computation.\n",
    "While KNN has its limitations, addressing these considerations can help improve its performance in various scenarios. It's essential to carefully\n",
    "preprocess data, choose appropriate hyperparameters, and understand the nature of the problem to achieve good results with KNN."
   ]
  },
  {
   "cell_type": "markdown",
   "id": "4defcc74-a054-456e-a8f8-832834cc7075",
   "metadata": {},
   "source": [
    "## Question 9 --------------------------------------------------------------------------------------------------------------"
   ]
  },
  {
   "cell_type": "code",
   "execution_count": null,
   "id": "2db229f3-af95-4065-8c4e-c420262ff2a0",
   "metadata": {},
   "outputs": [],
   "source": [
    "Euclidean distance and Manhattan distance are two commonly used distance metrics in K-Nearest Neighbors (KNN) and other machine learning algorithms.\n",
    "The main difference between them lies in how they calculate the distance between two points in a multidimensional space:\n",
    "\n",
    "Euclidean Distance:\n",
    "\n",
    "Also known as L2 norm or straight-line distance.\n",
    "Represents the length of the shortest path between two points in a Euclidean space.\n",
    "Computed as the square root of the sum of squared differences between corresponding elements of the two points.\n",
    "Manhattan Distance:\n",
    "\n",
    "Also known as L1 norm or city block distance.\n",
    "Represents the sum of the absolute differences between corresponding elements of the two points.\n",
    "The distance is calculated by moving horizontally and vertically, similar to navigating city blocks.\n",
    "Example Code:\n",
    "Let's demonstrate the difference between Euclidean and Manhattan distances using a simple Python example:"
   ]
  },
  {
   "cell_type": "code",
   "execution_count": 14,
   "id": "2bf13bfd-7693-4810-926d-64d9934236e5",
   "metadata": {},
   "outputs": [
    {
     "name": "stdout",
     "output_type": "stream",
     "text": [
      "Euclidean Distance: 5.196152422706632\n",
      "Manhattan Distance: 9\n"
     ]
    }
   ],
   "source": [
    "import numpy as np\n",
    "from scipy.spatial.distance import euclidean, cityblock\n",
    "\n",
    "# Sample data points\n",
    "point1 = np.array([1, 2, 3])\n",
    "point2 = np.array([4, 5, 6])\n",
    "\n",
    "# Calculate Euclidean distance\n",
    "euclidean_distance = euclidean(point1, point2)\n",
    "\n",
    "# Calculate Manhattan distance\n",
    "manhattan_distance = cityblock(point1, point2)\n",
    "\n",
    "# Display the distances\n",
    "print(f\"Euclidean Distance: {euclidean_distance}\")\n",
    "print(f\"Manhattan Distance: {manhattan_distance}\")\n"
   ]
  },
  {
   "cell_type": "markdown",
   "id": "f7528ccb-72c5-4de5-943c-bc30c3430330",
   "metadata": {},
   "source": [
    "## Question 10 --------------------------------------------------------------------------------------------------------------"
   ]
  },
  {
   "cell_type": "code",
   "execution_count": null,
   "id": "6012f295-28dd-4281-9c06-b1b16c4d54e6",
   "metadata": {},
   "outputs": [],
   "source": [
    "Feature scaling plays a crucial role in K-Nearest Neighbors (KNN) and many other machine learning algorithms.\n",
    "The reason behind using feature scaling is to ensure that all features contribute equally to the distance calculations between data points. KNN relies on the notion of distance to find nearest neighbors, and if features have different scales, those with larger scales can dominate the distance calculations.\n",
    "\n",
    "Here are the key reasons why feature scaling is important in KNN:\n",
    "\n",
    "Equal Contribution of Features:\n",
    "\n",
    "Features with larger scales will have a greater impact on the distance calculations, potentially overshadowing features with smaller scales. Feature scaling ensures that all features contribute equally to the similarity or dissimilarity measurements.\n",
    "Distance-Based Algorithms:\n",
    "\n",
    "KNN calculates distances between data points to determine nearest neighbors. If the scales of features are different, the distance calculations can be biased towards features with larger magnitudes.\n",
    "Improves Convergence and Performance:\n",
    "\n",
    "Feature scaling can lead to faster convergence during the training phase. Algorithms like gradient descent, which may be used in certain steps of KNN, often converge faster when features are on similar scales.\n",
    "Common methods for feature scaling include Min-Max scaling (normalization) and Standardization (Z-score normalization):\n",
    "\n",
    "Min-Max Scaling (Normalization):\n",
    "\n",
    "Scales the features to a specific range (commonly [0, 1]).\n",
    "python\n",
    "Copy code\n",
    "from sklearn.preprocessing import MinMaxScaler\n",
    "\n",
    "# Assuming X is your feature matrix\n",
    "scaler = MinMaxScaler()\n",
    "X_normalized = scaler.fit_transform(X)\n",
    "Standardization (Z-score Normalization):\n",
    "\n",
    "Scales the features to have a mean of 0 and a standard deviation of 1.\n",
    "python\n",
    "Copy code\n",
    "from sklearn.preprocessing import StandardScaler\n",
    "\n",
    "# Assuming X is your feature matrix\n",
    "scaler = StandardScaler()\n",
    "X_standardized = scaler.fit_transform(X)\n",
    "By applying feature scaling, you ensure that the distances calculated in KNN are based on the relative importance of each feature rather than their absolute magnitudes. This, in turn, helps KNN make more accurate and meaningful predictions by avoiding biases introduced by differing scales."
   ]
  }
 ],
 "metadata": {
  "kernelspec": {
   "display_name": "Python 3 (ipykernel)",
   "language": "python",
   "name": "python3"
  },
  "language_info": {
   "codemirror_mode": {
    "name": "ipython",
    "version": 3
   },
   "file_extension": ".py",
   "mimetype": "text/x-python",
   "name": "python",
   "nbconvert_exporter": "python",
   "pygments_lexer": "ipython3",
   "version": "3.10.8"
  }
 },
 "nbformat": 4,
 "nbformat_minor": 5
}
